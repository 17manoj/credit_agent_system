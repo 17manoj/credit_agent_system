{
 "cells": [
  {
   "cell_type": "markdown",
   "id": "cc0b149c",
   "metadata": {},
   "source": [
    "Sure, here is a step-by-step guide on how to perform the exploratory data analysis (EDA) on the given dataset.\n"
   ]
  },
  {
   "cell_type": "code",
   "execution_count": null,
   "id": "49d06291",
   "metadata": {},
   "outputs": [],
   "source": [
    "# Import necessary libraries\n",
    "import pandas as pd\n",
    "import numpy as np\n",
    "import matplotlib.pyplot as plt\n",
    "import seaborn as sns\n",
    "from scipy import stats\n",
    "from sklearn.preprocessing import OneHotEncoder"
   ]
  },
  {
   "cell_type": "markdown",
   "id": "05017d8e",
   "metadata": {},
   "source": [
    "\n",
    "# Load the Dataset\n"
   ]
  },
  {
   "cell_type": "code",
   "execution_count": null,
   "id": "041d2d99",
   "metadata": {},
   "outputs": [],
   "source": [
    "# Load the dataset\n",
    "df = pd.read_csv('credit_data.csv')"
   ]
  },
  {
   "cell_type": "markdown",
   "id": "206746b8",
   "metadata": {},
   "source": [
    "\n",
    "# Data Cleaning\n"
   ]
  },
  {
   "cell_type": "code",
   "execution_count": null,
   "id": "5482a236",
   "metadata": {},
   "outputs": [],
   "source": [
    "# Remove duplicate rows\n",
    "df = df.drop_duplicates()\n",
    "\n",
    "# Standardize column names\n",
    "df.columns = df.columns.str.lower().str.replace(' ', '_')\n",
    "\n",
    "# Convert date columns to datetime format (if any)\n",
    "# df['date_column'] = pd.to_datetime(df['date_column'])\n",
    "\n",
    "# Drop columns with more than 80% missing values\n",
    "df = df.dropna(thresh=df.shape[0]*0.2, how='all', axis=1)\n",
    "\n",
    "# Fill missing values\n",
    "for col in df.columns:\n",
    "    if df[col].dtype == 'object':\n",
    "        df[col] = df[col].fillna(df[col].mode()[0])\n",
    "    else:\n",
    "        df[col] = df[col].fillna(df[col].mean())\n",
    "\n",
    "# Handle outliers in numerical columns\n",
    "Q1 = df.quantile(0.25)\n",
    "Q3 = df.quantile(0.75)\n",
    "IQR = Q3 - Q1\n",
    "\n",
    "df = df[~((df < (Q1 - 1.5 * IQR)) |(df > (Q3 + 1.5 * IQR))).any(axis=1)]"
   ]
  },
  {
   "cell_type": "markdown",
   "id": "cce70deb",
   "metadata": {},
   "source": [
    "\n",
    "# Data Transformation\n"
   ]
  },
  {
   "cell_type": "code",
   "execution_count": null,
   "id": "1c04d9c4",
   "metadata": {},
   "outputs": [],
   "source": [
    "# Onehot encoding for categorical variables\n",
    "encoder = OneHotEncoder(drop='first')\n",
    "df_encoded = pd.DataFrame(encoder.fit_transform(df.select_dtypes(include=['object'])).toarray(), \n",
    "                          columns=encoder.get_feature_names(df.select_dtypes(include=['object']).columns.tolist()))\n",
    "df = df.join(df_encoded)\n",
    "df = df.drop(df.select_dtypes(include=['object']).columns.tolist(), axis=1)"
   ]
  },
  {
   "cell_type": "markdown",
   "id": "450b62a5",
   "metadata": {},
   "source": [
    "\n",
    "# Exploratory Data Analysis\n"
   ]
  },
  {
   "cell_type": "code",
   "execution_count": null,
   "id": "99a0de62",
   "metadata": {},
   "outputs": [],
   "source": [
    "# Basic statistics\n",
    "df.describe()"
   ]
  },
  {
   "cell_type": "markdown",
   "id": "5c450b20",
   "metadata": {},
   "source": []
  },
  {
   "cell_type": "code",
   "execution_count": null,
   "id": "e96d43f8",
   "metadata": {},
   "outputs": [],
   "source": [
    "# Null counts\n",
    "df.isnull().sum()"
   ]
  },
  {
   "cell_type": "markdown",
   "id": "d633c4d3",
   "metadata": {},
   "source": []
  },
  {
   "cell_type": "code",
   "execution_count": null,
   "id": "67ebaf54",
   "metadata": {},
   "outputs": [],
   "source": [
    "# Histograms for numerical columns\n",
    "df.hist(figsize=(15,10))\n",
    "plt.tight_layout()\n",
    "plt.show()"
   ]
  },
  {
   "cell_type": "markdown",
   "id": "7b317720",
   "metadata": {},
   "source": []
  },
  {
   "cell_type": "code",
   "execution_count": null,
   "id": "45816a82",
   "metadata": {},
   "outputs": [],
   "source": [
    "# Box plots for numerical columns\n",
    "for col in df.select_dtypes(include=[np.number]).columns:\n",
    "    plt.figure(figsize=(5, 5))\n",
    "    df.boxplot([col])\n",
    "    plt.title(col)\n",
    "    plt.show()"
   ]
  },
  {
   "cell_type": "markdown",
   "id": "e30a0b66",
   "metadata": {},
   "source": []
  },
  {
   "cell_type": "code",
   "execution_count": null,
   "id": "9bf5e809",
   "metadata": {},
   "outputs": [],
   "source": [
    "# Correlation matrix\n",
    "plt.figure(figsize=(10, 8))\n",
    "sns.heatmap(df.corr(), annot=True, fmt=\".2f\")\n",
    "plt.show()"
   ]
  },
  {
   "cell_type": "markdown",
   "id": "8a75422f",
   "metadata": {},
   "source": []
  },
  {
   "cell_type": "code",
   "execution_count": null,
   "id": "01a71bef",
   "metadata": {},
   "outputs": [],
   "source": [
    "# Category distributions for categorical columns\n",
    "# Since we have already encoded the categorical columns, we can't plot category distributions."
   ]
  },
  {
   "cell_type": "markdown",
   "id": "33fbf7d1",
   "metadata": {},
   "source": [
    "\n",
    "This is a basic EDA process. Depending on the specific requirements of your project, you may need to perform additional analysis."
   ]
  }
 ],
 "metadata": {},
 "nbformat": 4,
 "nbformat_minor": 5
}
